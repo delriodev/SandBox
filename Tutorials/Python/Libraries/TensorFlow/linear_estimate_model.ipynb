{
  "nbformat": 4,
  "nbformat_minor": 0,
  "metadata": {
    "colab": {
      "name": "linear_estimate_model",
      "provenance": [],
      "collapsed_sections": []
    },
    "kernelspec": {
      "name": "python3",
      "display_name": "Python 3"
    }
  },
  "cells": [
    {
      "cell_type": "code",
      "metadata": {
        "id": "plLYS8bmB5WL"
      },
      "source": [
        "!pip install -q sklearn"
      ],
      "execution_count": 2,
      "outputs": []
    },
    {
      "cell_type": "code",
      "metadata": {
        "id": "gq69n-X_BBKs"
      },
      "source": [
        "%tensorflow_version 2.x # this line is not required unless you are in a notebook\r\n",
        "\r\n",
        "from __future__ import absolute_import, division, print_function, unicode_literals\r\n",
        "\r\n",
        "import numpy as np\r\n",
        "import pandas as pd\r\n",
        "import matplotlib.pyplot as plt\r\n",
        "from IPython.display import clear_output\r\n",
        "from six.moves import urllib\r\n",
        "\r\n",
        "import tensorflow.compat.v2.feature_column as fc\r\n",
        "\r\n",
        "import tensorflow as tf"
      ],
      "execution_count": null,
      "outputs": []
    },
    {
      "cell_type": "markdown",
      "metadata": {
        "id": "3nlLktjXCeWu"
      },
      "source": [
        "Fetching data"
      ]
    },
    {
      "cell_type": "code",
      "metadata": {
        "id": "gB3Ey250B-Ps"
      },
      "source": [
        "df_train = pd.read_csv('https://storage.googleapis.com/tf-datasets/titanic/train.csv') # training data\r\n",
        "df_eval = pd.read_csv('https://storage.googleapis.com/tf-datasets/titanic/eval.csv') # testing data\r\n",
        "\r\n",
        "# print(df_train.head())\r\n",
        "# print(df_eval.head())\r\n",
        "\r\n",
        "# pop a column of the table\r\n",
        "label_train = df_train.pop('survived')\r\n",
        "label_eval = df_eval.pop('survived')\r\n",
        "\r\n",
        "# print(df_train.head())\r\n",
        "# print(df_eval.head())\r\n",
        "\r\n",
        "# print(df_train.loc[0]) # Row selection\r\n",
        "# print(df_train[\"age\"]) # Col selection\r\n",
        "\r\n",
        "CATEGORICAL_COLUMNS = ['sex', 'n_siblings_spouses', 'parch', 'class', 'deck', 'embark_town', 'alone']\r\n",
        "NUMERIC_COLUMNS = ['age', 'fare']"
      ],
      "execution_count": 34,
      "outputs": []
    },
    {
      "cell_type": "markdown",
      "metadata": {
        "id": "_6CuYt4yE_v9"
      },
      "source": [
        "Some methods of **pandas** data frame objects, data visualisation "
      ]
    },
    {
      "cell_type": "code",
      "metadata": {
        "id": "J1_xe8RzDmU1"
      },
      "source": [
        "df_train.head()"
      ],
      "execution_count": null,
      "outputs": []
    },
    {
      "cell_type": "code",
      "metadata": {
        "id": "4jjcg3H_FE0L"
      },
      "source": [
        "df_train.describe()"
      ],
      "execution_count": null,
      "outputs": []
    },
    {
      "cell_type": "code",
      "metadata": {
        "id": "7urJ4TpRFJv-"
      },
      "source": [
        "df_train.shape"
      ],
      "execution_count": null,
      "outputs": []
    },
    {
      "cell_type": "code",
      "metadata": {
        "id": "GlE7eTD9FO4c"
      },
      "source": [
        "df_train.age.hist(bins=20) # A histogram of the age"
      ],
      "execution_count": null,
      "outputs": []
    },
    {
      "cell_type": "code",
      "metadata": {
        "id": "U5ei-B_5FaKE"
      },
      "source": [
        "df_train.sex.value_counts().plot(kind='barh') # Visualize sex"
      ],
      "execution_count": null,
      "outputs": []
    },
    {
      "cell_type": "code",
      "metadata": {
        "id": "o6Z6SkkuFbU3"
      },
      "source": [
        "df_train['class'].value_counts().plot(kind='barh') # Visualize class"
      ],
      "execution_count": null,
      "outputs": []
    },
    {
      "cell_type": "code",
      "metadata": {
        "id": "afv-NYUMFcpE"
      },
      "source": [
        "pd.concat([df_train, y_train], axis=1).groupby('sex').survived.mean().plot(kind='barh').set_xlabel('% survive') # Visualize relationships"
      ],
      "execution_count": null,
      "outputs": []
    },
    {
      "cell_type": "markdown",
      "metadata": {
        "id": "Z64Bo_JxF6t9"
      },
      "source": [
        "Craeting Feature Columns"
      ]
    },
    {
      "cell_type": "code",
      "metadata": {
        "id": "-L2M2GgzF5gL"
      },
      "source": [
        "feature_columns = []\r\n",
        "\r\n",
        "for feature_name in CATEGORICAL_COLUMNS:\r\n",
        "\r\n",
        "  vocabulary = df_train[feature_name].unique()\r\n",
        "\r\n",
        "  # \r\n",
        "  feature_columns.append(tf.feature_column.categorical_column_with_vocabulary_list(feature_name, vocabulary))\r\n",
        "\r\n",
        "for feature_name in NUMERIC_COLUMNS:\r\n",
        "\r\n",
        "  feature_columns.append(tf.feature_column.numeric_column(feature_name, dtype=tf.float32))\r\n",
        "\r\n",
        "# print(feature_columns)\r\n"
      ],
      "execution_count": 35,
      "outputs": []
    },
    {
      "cell_type": "markdown",
      "metadata": {
        "id": "zUREdOSwBV-P"
      },
      "source": [
        "Input Function"
      ]
    },
    {
      "cell_type": "code",
      "metadata": {
        "id": "23Ib9ImFLaG7"
      },
      "source": [
        "def make_input_fn(data_df, label_df, num_epochs=10, shuffle=True, batch_size=32):\r\n",
        "\r\n",
        "  def input_function(): \r\n",
        "    ds = tf.data.Dataset.from_tensor_slices((dict(data_df), label_df))  # create tf.data.Dataset object with data and its label\r\n",
        "    if shuffle:\r\n",
        "      ds = ds.shuffle(1000)\r\n",
        "    ds = ds.batch(batch_size).repeat(num_epochs)  # split dataset into batches of 32 and repeat process for number of epochs\r\n",
        "    return ds  \r\n",
        "\r\n",
        "  return input_function "
      ],
      "execution_count": 36,
      "outputs": []
    },
    {
      "cell_type": "code",
      "metadata": {
        "id": "OR6TLoMiMBM6"
      },
      "source": [
        "train_input_fn = make_input_fn(df_train, y_train) \r\n",
        "eval_input_fn = make_input_fn(df_eval, y_eval, num_epochs=1, shuffle=False)"
      ],
      "execution_count": 37,
      "outputs": []
    },
    {
      "cell_type": "markdown",
      "metadata": {
        "id": "nzw_WwghMZoQ"
      },
      "source": [
        "Creating the model, Train and Evaluate"
      ]
    },
    {
      "cell_type": "code",
      "metadata": {
        "id": "BU6Cw_1cMbKy"
      },
      "source": [
        "linear_estimate = tf.estimator.LinearClassifier(feature_columns=feature_columns)\r\n",
        "\r\n",
        "linear_estimate.train(train_input_fn) # Train\r\n",
        "result = linear_estimate.evaluate(eval_input_fn) # Evaluate\r\n",
        "\r\n",
        "clear_output()\r\n",
        "print(result)"
      ],
      "execution_count": null,
      "outputs": []
    },
    {
      "cell_type": "markdown",
      "metadata": {
        "id": "tw8BfAUdN69Y"
      },
      "source": [
        "Predictions"
      ]
    },
    {
      "cell_type": "code",
      "metadata": {
        "id": "su0K73sWNvr8"
      },
      "source": [
        "result = list(linear_estimate.predict(eval_input_fn))\r\n",
        "\r\n",
        "print(df_eval.loc[6]) # The features for a given person\r\n",
        "print(y_eval.loc[6]) # The label for a given person\r\n",
        "print(result[6]['probabilities'][1]) # The model's prediction of survival for that person"
      ],
      "execution_count": null,
      "outputs": []
    }
  ]
}